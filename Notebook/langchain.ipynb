{
 "cells": [
  {
   "cell_type": "markdown",
   "metadata": {},
   "source": [
    "# LLM Personal NoteBook LangChain Framework  \n",
    "## Basic API call for Mistral API\n",
    "\n",
    "Here we will set our llm"
   ]
  },
  {
   "cell_type": "code",
   "execution_count": 36,
   "metadata": {},
   "outputs": [
    {
     "name": "stdout",
     "output_type": "stream",
     "text": [
      "Hello! I'm functioning as intended, thank you. How about you? How's your day going?\n"
     ]
    }
   ],
   "source": [
    "from langchain_mistralai import ChatMistralAI\n",
    "import os\n",
    "\n",
    "llm = ChatMistralAI(\n",
    "    api_key=os.environ['API_KEY'], \n",
    "    model=\"mistral-large-latest\",\n",
    "    temperature=0.1\n",
    ")\n",
    "response = llm.invoke(\"Hello, how are you?\")\n",
    "print(response.content)\n",
    "\n"
   ]
  },
  {
   "cell_type": "markdown",
   "metadata": {},
   "source": [
    "## Run Mistral Chat Test with structured output (e.g JSON)\n",
    "Now We will use schema to render a json output of our model response </br>\n",
    "To make sure that the model will render json format according to our need, </br>\n",
    "We will use **pydentic**"
   ]
  },
  {
   "cell_type": "code",
   "execution_count": 34,
   "metadata": {},
   "outputs": [
    {
     "name": "stdout",
     "output_type": "stream",
     "text": [
      "{\n",
      "  \"original\": \"hi?\",\n",
      "  \"traduction\": \"ciao?\"\n",
      "}\n"
     ]
    }
   ],
   "source": [
    "from langchain_core.messages import HumanMessage, SystemMessage\n",
    "from pydantic import BaseModel\n",
    "\n",
    "class AnswerWithOriginalMessageThenTraduction(BaseModel):\n",
    "    original: str\n",
    "    traduction: str\n",
    "\n",
    "llm_structured_output = llm.with_structured_output(\n",
    "    AnswerWithOriginalMessageThenTraduction,\n",
    "    method='json_mode',\n",
    "    include_raw=True\n",
    ")\n",
    "messages = [\n",
    "    SystemMessage(\n",
    "                  \"Translate the following from English into Italian. \"\n",
    "                  \"Make sure to return JSON blob with keys 'original' stands for \"\n",
    "                  \"original text from prompt and 'traduction', stand for the traduction\"\n",
    "                  ),\n",
    "    HumanMessage(\"hi?\"),\n",
    "]\n",
    "\n",
    "response=llm_structured_output.invoke(messages)['raw']\n",
    "print(response.content)\n",
    "\n"
   ]
  },
  {
   "cell_type": "markdown",
   "metadata": {},
   "source": [
    "### Result\n",
    "```json\n",
    "{\n",
    "  \"original\": \"hi!\",\n",
    "  \"traduction\": \"ciao!\"\n",
    "}\n",
    "```\n"
   ]
  },
  {
   "cell_type": "markdown",
   "metadata": {},
   "source": [
    "## Prompt Template\n",
    "Prompt Template is a technique that enable</br>\n",
    "Developper to pass variable through prompt.</br>\n",
    "Which means that promp is personnizable"
   ]
  },
  {
   "cell_type": "code",
   "execution_count": 29,
   "metadata": {},
   "outputs": [
    {
     "name": "stdout",
     "output_type": "stream",
     "text": [
      "{\n",
      "  \"original\": \"hi!\",\n",
      "  \"traduction\": \"salut!\"\n",
      "}\n"
     ]
    }
   ],
   "source": [
    "from langchain_core.prompts import ChatPromptTemplate\n",
    "from langchain_core.messages import HumanMessage, SystemMessage\n",
    "\n",
    "# System template -> We tell the model what he will do here translate with any language\n",
    "system_template = \"Translate the following phrases from english to {language}\"\n",
    "output_format_template = \"\"\"\n",
    "Make sur to return JSON blob with keys 'original'\n",
    "and keys 'traduction'\n",
    "\"\"\"\n",
    "\n",
    "prompt_template = ChatPromptTemplate.from_messages(\n",
    "    [\n",
    "        (\"system\", output_format_template),\n",
    "        (\"system\", system_template),\n",
    "        (\"user\", \"{text}\")\n",
    "    ]\n",
    ")\n",
    "\n",
    "prompt = prompt_template.invoke({\n",
    "    \"language\": \"French\",\n",
    "    \"text\": \"hi!\"\n",
    "})\n",
    "message_template = prompt.to_messages()\n",
    "response =llm_structured_output.invoke(message_template)\n",
    "print(response['raw'].content)\n",
    "\n"
   ]
  }
 ],
 "metadata": {
  "kernelspec": {
   "display_name": ".venv",
   "language": "python",
   "name": "python3"
  },
  "language_info": {
   "codemirror_mode": {
    "name": "ipython",
    "version": 3
   },
   "file_extension": ".py",
   "mimetype": "text/x-python",
   "name": "python",
   "nbconvert_exporter": "python",
   "pygments_lexer": "ipython3",
   "version": "3.11.0"
  }
 },
 "nbformat": 4,
 "nbformat_minor": 2
}
